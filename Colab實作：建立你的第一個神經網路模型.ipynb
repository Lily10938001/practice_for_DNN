{
  "nbformat": 4,
  "nbformat_minor": 0,
  "metadata": {
    "colab": {
      "provenance": [],
      "include_colab_link": true
    },
    "kernelspec": {
      "name": "python3",
      "display_name": "Python 3"
    },
    "accelerator": "GPU"
  },
  "cells": [
    {
      "cell_type": "markdown",
      "metadata": {
        "id": "view-in-github",
        "colab_type": "text"
      },
      "source": [
        "<a href=\"https://colab.research.google.com/github/Lily10938001/practice_for_DNN/blob/main/Colab%E5%AF%A6%E4%BD%9C%EF%BC%9A%E5%BB%BA%E7%AB%8B%E4%BD%A0%E7%9A%84%E7%AC%AC%E4%B8%80%E5%80%8B%E7%A5%9E%E7%B6%93%E7%B6%B2%E8%B7%AF%E6%A8%A1%E5%9E%8B.ipynb\" target=\"_parent\"><img src=\"https://colab.research.google.com/assets/colab-badge.svg\" alt=\"Open In Colab\"/></a>"
      ]
    },
    {
      "cell_type": "markdown",
      "metadata": {
        "id": "rwH465p5G1_A"
      },
      "source": [
        "\n",
        "<p align=\"center\">\n",
        "  <img src=\"https://storage.googleapis.com/kaggle-competitions/kaggle/3004/logos/header.png\"\n",
        "  />\n",
        "  <center>MNIST 手寫數字資料庫</center>\n",
        "  <center>圖片來源: https://www.kaggle.com/</center>\n",
        "</p>"
      ]
    },
    {
      "cell_type": "markdown",
      "metadata": {
        "id": "vVF9I9v6Zipb"
      },
      "source": [
        "## 1: 切換 TensorFlow 至 2.x 版\n",
        "\n"
      ]
    },
    {
      "cell_type": "code",
      "metadata": {
        "id": "WS6fShx3Za4O",
        "outputId": "23cb76b2-b550-4e77-e2ff-ff7d2bfd141f",
        "colab": {
          "base_uri": "https://localhost:8080/"
        }
      },
      "source": [
        "%tensorflow_version 2.x"
      ],
      "execution_count": 1,
      "outputs": [
        {
          "output_type": "stream",
          "name": "stdout",
          "text": [
            "Colab only includes TensorFlow 2.x; %tensorflow_version has no effect.\n"
          ]
        }
      ]
    },
    {
      "cell_type": "code",
      "metadata": {
        "id": "uA-_P66AHK3-"
      },
      "source": [
        "import tensorflow as tf"
      ],
      "execution_count": 2,
      "outputs": []
    },
    {
      "cell_type": "code",
      "metadata": {
        "id": "AjZslGUuHLSp",
        "colab": {
          "base_uri": "https://localhost:8080/",
          "height": 35
        },
        "outputId": "3329c724-efbb-4361-fde5-5372230068e5"
      },
      "source": [
        "tf.__version__ # 確認 TensorFlow 版本"
      ],
      "execution_count": null,
      "outputs": [
        {
          "output_type": "execute_result",
          "data": {
            "text/plain": [
              "'2.17.0'"
            ],
            "application/vnd.google.colaboratory.intrinsic+json": {
              "type": "string"
            }
          },
          "metadata": {},
          "execution_count": 4
        }
      ]
    },
    {
      "cell_type": "markdown",
      "metadata": {
        "id": "KzywiITOHNuE"
      },
      "source": [
        "## 2: 載入套件及資料集"
      ]
    },
    {
      "cell_type": "code",
      "metadata": {
        "id": "cBERMIvjHPFk"
      },
      "source": [
        "%matplotlib inline\n",
        "# Import useful packages\n",
        "import matplotlib.pyplot as plt\n",
        "import numpy as np\n",
        "\n",
        "# Import functions for data preprocessing\n",
        "from tensorflow.keras import datasets\n",
        "from tensorflow.keras.utils import to_categorical\n",
        "from tensorflow.keras.callbacks import EarlyStopping"
      ],
      "execution_count": 4,
      "outputs": []
    },
    {
      "cell_type": "markdown",
      "metadata": {
        "id": "qvKDaxwpHRMh"
      },
      "source": [
        "## 3: 資料前處理 (Data Preprocessing)"
      ]
    },
    {
      "cell_type": "markdown",
      "metadata": {
        "id": "RTGNUrdBHZCB"
      },
      "source": [
        "### 讀取 MNIST 資料集\n",
        "\n",
        "我們在此透過 `datasets` 讀取 MNIST 手寫數字圖片資料集\n",
        "\n",
        "此外，`datasets` 提供了以下數據資料集，並可使用在各種模型的練習上\n",
        "* CIFAR-10: 10 個類別的小影像分類資料集\n",
        "* CIFAR-100: 100 個類別的小影像分類資料集\n",
        "* IMDB: 電影評論情感分類數據集\n",
        "* Reuters newswire topics: 路透社新聞標題分類\n",
        "* MNIST: 手寫數字資料集\n",
        "* Fashion MNIST: 時尚物品資料集\n",
        "* Boston housing: 波士頓房價資料集\n",
        "\n",
        "關於各資料集的格式與出處，可參考: https://keras.io/datasets/\n"
      ]
    },
    {
      "cell_type": "code",
      "metadata": {
        "id": "-lCgz6UC8pKT",
        "colab": {
          "base_uri": "https://localhost:8080/"
        },
        "outputId": "fb42f8b6-9aaf-4cde-8592-5193033e390b"
      },
      "source": [
        "(X_train, y_train), (X_test, y_test) = datasets.mnist.load_data()"
      ],
      "execution_count": null,
      "outputs": [
        {
          "output_type": "stream",
          "name": "stdout",
          "text": [
            "Downloading data from https://storage.googleapis.com/tensorflow/tf-keras-datasets/mnist.npz\n",
            "\u001b[1m11490434/11490434\u001b[0m \u001b[32m━━━━━━━━━━━━━━━━━━━━\u001b[0m\u001b[37m\u001b[0m \u001b[1m0s\u001b[0m 0us/step\n"
          ]
        }
      ]
    },
    {
      "cell_type": "code",
      "metadata": {
        "id": "RhxMdy87IN8c",
        "colab": {
          "base_uri": "https://localhost:8080/"
        },
        "outputId": "f4b0c4d9-639c-42b9-923e-70eeade8c769"
      },
      "source": [
        "X_train"
      ],
      "execution_count": null,
      "outputs": [
        {
          "output_type": "execute_result",
          "data": {
            "text/plain": [
              "array([[[0, 0, 0, ..., 0, 0, 0],\n",
              "        [0, 0, 0, ..., 0, 0, 0],\n",
              "        [0, 0, 0, ..., 0, 0, 0],\n",
              "        ...,\n",
              "        [0, 0, 0, ..., 0, 0, 0],\n",
              "        [0, 0, 0, ..., 0, 0, 0],\n",
              "        [0, 0, 0, ..., 0, 0, 0]],\n",
              "\n",
              "       [[0, 0, 0, ..., 0, 0, 0],\n",
              "        [0, 0, 0, ..., 0, 0, 0],\n",
              "        [0, 0, 0, ..., 0, 0, 0],\n",
              "        ...,\n",
              "        [0, 0, 0, ..., 0, 0, 0],\n",
              "        [0, 0, 0, ..., 0, 0, 0],\n",
              "        [0, 0, 0, ..., 0, 0, 0]],\n",
              "\n",
              "       [[0, 0, 0, ..., 0, 0, 0],\n",
              "        [0, 0, 0, ..., 0, 0, 0],\n",
              "        [0, 0, 0, ..., 0, 0, 0],\n",
              "        ...,\n",
              "        [0, 0, 0, ..., 0, 0, 0],\n",
              "        [0, 0, 0, ..., 0, 0, 0],\n",
              "        [0, 0, 0, ..., 0, 0, 0]],\n",
              "\n",
              "       ...,\n",
              "\n",
              "       [[0, 0, 0, ..., 0, 0, 0],\n",
              "        [0, 0, 0, ..., 0, 0, 0],\n",
              "        [0, 0, 0, ..., 0, 0, 0],\n",
              "        ...,\n",
              "        [0, 0, 0, ..., 0, 0, 0],\n",
              "        [0, 0, 0, ..., 0, 0, 0],\n",
              "        [0, 0, 0, ..., 0, 0, 0]],\n",
              "\n",
              "       [[0, 0, 0, ..., 0, 0, 0],\n",
              "        [0, 0, 0, ..., 0, 0, 0],\n",
              "        [0, 0, 0, ..., 0, 0, 0],\n",
              "        ...,\n",
              "        [0, 0, 0, ..., 0, 0, 0],\n",
              "        [0, 0, 0, ..., 0, 0, 0],\n",
              "        [0, 0, 0, ..., 0, 0, 0]],\n",
              "\n",
              "       [[0, 0, 0, ..., 0, 0, 0],\n",
              "        [0, 0, 0, ..., 0, 0, 0],\n",
              "        [0, 0, 0, ..., 0, 0, 0],\n",
              "        ...,\n",
              "        [0, 0, 0, ..., 0, 0, 0],\n",
              "        [0, 0, 0, ..., 0, 0, 0],\n",
              "        [0, 0, 0, ..., 0, 0, 0]]], dtype=uint8)"
            ]
          },
          "metadata": {},
          "execution_count": 7
        }
      ]
    },
    {
      "cell_type": "code",
      "metadata": {
        "id": "j3BIqT_TIOBF",
        "colab": {
          "base_uri": "https://localhost:8080/"
        },
        "outputId": "0e8df338-4b66-45dc-cc7f-0fe9a0730cab"
      },
      "source": [
        "X_train.shape # 6 萬筆 28x28 的資料"
      ],
      "execution_count": null,
      "outputs": [
        {
          "output_type": "execute_result",
          "data": {
            "text/plain": [
              "(60000, 28, 28)"
            ]
          },
          "metadata": {},
          "execution_count": 8
        }
      ]
    },
    {
      "cell_type": "code",
      "metadata": {
        "id": "fAfGh6EoIODk",
        "colab": {
          "base_uri": "https://localhost:8080/"
        },
        "outputId": "8650a92f-2738-437f-9ede-a84e50a65f93"
      },
      "source": [
        "y_train"
      ],
      "execution_count": null,
      "outputs": [
        {
          "output_type": "execute_result",
          "data": {
            "text/plain": [
              "array([5, 0, 4, ..., 5, 6, 8], dtype=uint8)"
            ]
          },
          "metadata": {},
          "execution_count": 9
        }
      ]
    },
    {
      "cell_type": "code",
      "metadata": {
        "id": "TvPFpoxaIOGp",
        "colab": {
          "base_uri": "https://localhost:8080/"
        },
        "outputId": "f06bbd23-9552-48c2-e970-7e74a7b6f636"
      },
      "source": [
        "y_train.shape # 6 萬個整數，代表對應資料的號碼"
      ],
      "execution_count": null,
      "outputs": [
        {
          "output_type": "execute_result",
          "data": {
            "text/plain": [
              "(60000,)"
            ]
          },
          "metadata": {},
          "execution_count": 10
        }
      ]
    },
    {
      "cell_type": "code",
      "metadata": {
        "id": "HVFT6kMaIOKA",
        "colab": {
          "base_uri": "https://localhost:8080/"
        },
        "outputId": "43c7cfbe-4eab-4f7d-9c05-9264737266c7"
      },
      "source": [
        "set(y_train) # 檢查y的所有值"
      ],
      "execution_count": null,
      "outputs": [
        {
          "output_type": "execute_result",
          "data": {
            "text/plain": [
              "{0, 1, 2, 3, 4, 5, 6, 7, 8, 9}"
            ]
          },
          "metadata": {},
          "execution_count": 11
        }
      ]
    },
    {
      "cell_type": "code",
      "metadata": {
        "id": "vfA5O8DeIOOl"
      },
      "source": [],
      "execution_count": null,
      "outputs": []
    },
    {
      "cell_type": "markdown",
      "metadata": {
        "id": "sMWTboXMG1DD"
      },
      "source": [
        "### 資料標準化 (Normalizing data)\n",
        "* a) 確認資料的數值範圍\n",
        "* b) 標準化至指定範圍\n",
        "\n",
        "\n",
        "\n",
        "[重點] 標準化的資料能協助神經網路的訓練速度及穩定度"
      ]
    },
    {
      "cell_type": "markdown",
      "metadata": {
        "id": "nw5IObblG06T"
      },
      "source": [
        "#### 觀察單筆資料"
      ]
    },
    {
      "cell_type": "code",
      "metadata": {
        "id": "r8bHQGFXG0xm"
      },
      "source": [
        "# Random pick one data from training set\n",
        "idx = np.random.randint(X_train.shape[0])\n",
        "sample_x = X_train[idx]\n",
        "sample_y = y_train[idx]"
      ],
      "execution_count": null,
      "outputs": []
    },
    {
      "cell_type": "code",
      "metadata": {
        "id": "RinlyAogJBkX",
        "colab": {
          "base_uri": "https://localhost:8080/"
        },
        "outputId": "a1709128-40ed-4dc5-f108-63af8685db16"
      },
      "source": [
        "sample_y"
      ],
      "execution_count": null,
      "outputs": [
        {
          "output_type": "execute_result",
          "data": {
            "text/plain": [
              "8"
            ]
          },
          "metadata": {},
          "execution_count": 13
        }
      ]
    },
    {
      "cell_type": "code",
      "metadata": {
        "id": "wB16rm4-G0o1",
        "colab": {
          "base_uri": "https://localhost:8080/"
        },
        "outputId": "ac659069-1e52-4569-bb55-d4e8743eafe2"
      },
      "source": [
        "print(\"最小值:\", sample_x.min())\n",
        "print(\"最大值:\", sample_x.max())"
      ],
      "execution_count": null,
      "outputs": [
        {
          "output_type": "stream",
          "name": "stdout",
          "text": [
            "最小值: 0\n",
            "最大值: 255\n"
          ]
        }
      ]
    },
    {
      "cell_type": "code",
      "metadata": {
        "id": "RZnTbTDiG0f7",
        "colab": {
          "base_uri": "https://localhost:8080/",
          "height": 462
        },
        "outputId": "94fa3f1c-2b85-4a9d-f400-3e6caed2a2a6"
      },
      "source": [
        "plt.figure(figsize=(10, 5))\n",
        "plt.subplot(1, 2, 1)\n",
        "plt.imshow(sample_x, 'gray_r')\n",
        "plt.title(\"ID:%d\\nImage Label: %d\" %(idx, sample_y))\n",
        "\n",
        "plt.subplot(1, 2, 2)\n",
        "plt.hist(sample_x.flatten())\n",
        "plt.title(\"Pixel Histogram\");"
      ],
      "execution_count": null,
      "outputs": [
        {
          "output_type": "display_data",
          "data": {
            "text/plain": [
              "<Figure size 1000x500 with 2 Axes>"
            ],
            "image/png": "[encoded data removed]"
          },
          "metadata": {}
        }
      ]
    },
    {
      "cell_type": "markdown",
      "metadata": {
        "id": "EiheOXqPG0Tm"
      },
      "source": [
        "#### 檢查所有資料的值之範圍"
      ]
    },
    {
      "cell_type": "code",
      "metadata": {
        "id": "gbFVGHYNG0Kh",
        "colab": {
          "base_uri": "https://localhost:8080/"
        },
        "outputId": "b10aaa01-6fb8-48ca-e6b6-964a45452de8"
      },
      "source": [
        "print(\"最小值:\", X_train.min())\n",
        "print(\"最大值:\", X_train.max())"
      ],
      "execution_count": null,
      "outputs": [
        {
          "output_type": "stream",
          "name": "stdout",
          "text": [
            "最小值: 0\n",
            "最大值: 255\n"
          ]
        }
      ]
    },
    {
      "cell_type": "code",
      "metadata": {
        "id": "QA2-dKfQJEt7",
        "colab": {
          "base_uri": "https://localhost:8080/",
          "height": 427
        },
        "outputId": "01cde4c5-d131-4178-9a76-a3ccddbdd94b"
      },
      "source": [
        "plt.figure(figsize=(16, 6))\n",
        "plt.subplot(1, 2, 1)\n",
        "plt.title('Historgram of Minimal Value of Each Data')\n",
        "plt.hist(X_train.min(axis=(1, 2)))\n",
        "\n",
        "plt.subplot(1, 2, 2)\n",
        "plt.title('Historgram of Maximal Value of Each Data')\n",
        "plt.hist(X_train.max(axis=(1, 2)))"
      ],
      "execution_count": null,
      "outputs": [
        {
          "output_type": "execute_result",
          "data": {
            "text/plain": [
              "(array([ 5999.,     0.,     0.,     0.,     0.,     0.,     0.,     0.,\n",
              "            0., 54001.]),\n",
              " array([254. , 254.1, 254.2, 254.3, 254.4, 254.5, 254.6, 254.7, 254.8,\n",
              "        254.9, 255. ]),\n",
              " <BarContainer object of 10 artists>)"
            ]
          },
          "metadata": {},
          "execution_count": 17
        },
        {
          "output_type": "display_data",
          "data": {
            "text/plain": [
              "<Figure size 1600x600 with 2 Axes>"
            ],
            "image/png": "[encoded data removed]"
          },
          "metadata": {}
        }
      ]
    },
    {
      "cell_type": "markdown",
      "metadata": {
        "id": "Z-qe2K1aG0Bo"
      },
      "source": [
        "#### 標準化 (Normalization)"
      ]
    },
    {
      "cell_type": "markdown",
      "metadata": {
        "id": "McExBsnuGz5G"
      },
      "source": [
        "在數學中，將資料「單位化」的方式有很多，最常見的是限制資料數值的範圍（即最大值與最小值），假設資料的數值範圍為 $[a, b]$，透過\n",
        "\n",
        "$$\n",
        "f(x) = \\frac{x-a}{b-a}\n",
        "$$\n",
        "\n",
        "可將資料的數值範圍變換到 $[0, 1]$.\n",
        "\n",
        "在這裡，由於 MNIST 的數值範圍的最小值為 0，所以在這邊只需除以最大值 255，就可將資料的數值範圍限制在 $[0, 1]$.\n"
      ]
    },
    {
      "cell_type": "code",
      "metadata": {
        "id": "zvWzsB3G9IU8",
        "colab": {
          "base_uri": "https://localhost:8080/"
        },
        "outputId": "1dd8d7b0-d824-4620-bebb-7a2b428d2756"
      },
      "source": [
        "X_train = X_train / X_train.max()\n",
        "print(\"最小值:\", X_train.min())\n",
        "print(\"最大值:\", X_train.max())"
      ],
      "execution_count": null,
      "outputs": [
        {
          "output_type": "stream",
          "name": "stdout",
          "text": [
            "最小值: 0.0\n",
            "最大值: 1.0\n"
          ]
        }
      ]
    },
    {
      "cell_type": "code",
      "metadata": {
        "id": "nO5BbUMaGzvu",
        "colab": {
          "base_uri": "https://localhost:8080/"
        },
        "outputId": "0c52c236-ca0d-4c1f-fcfe-80f2d9513a23"
      },
      "source": [
        "X_test = X_test / X_test.max()\n",
        "print(\"最小值:\", X_test.min())\n",
        "print(\"最大值:\", X_test.max())"
      ],
      "execution_count": null,
      "outputs": [
        {
          "output_type": "stream",
          "name": "stdout",
          "text": [
            "最小值: 0.0\n",
            "最大值: 1.0\n"
          ]
        }
      ]
    },
    {
      "cell_type": "markdown",
      "metadata": {
        "id": "YcuPr3G0GzmX"
      },
      "source": [
        "### 調整資料格式\n",
        "我們通常會透過 `.reshpe` 的方式，將資料「尺寸」轉換成符合神經網路輸入的格式\n",
        "\n",
        "我們將每筆格式為 $28\\times28$ 的資料，拉直 (flatten) 成一個長度為 $28*28=784$ 的一維陣列。\n",
        "\n",
        "換言之，訓練資料的大小將從 $(60000, 28, 28)$ 轉換成 $(60000, 784)$。\n",
        "\n",
        "測試資料則由 $(10000, 28, 28)$ 轉換成 $(10000, 784)$\n"
      ]
    },
    {
      "cell_type": "code",
      "metadata": {
        "id": "Ln_HLonjGzHY"
      },
      "source": [
        "X_train = X_train.reshape(-1, 28*28)"
      ],
      "execution_count": null,
      "outputs": []
    },
    {
      "cell_type": "code",
      "metadata": {
        "id": "MBQp8MRxIl53",
        "colab": {
          "base_uri": "https://localhost:8080/"
        },
        "outputId": "e1b3e4f7-c585-45f9-8e39-4a6692433f44"
      },
      "source": [
        "X_train.shape"
      ],
      "execution_count": null,
      "outputs": [
        {
          "output_type": "execute_result",
          "data": {
            "text/plain": [
              "(60000, 784)"
            ]
          },
          "metadata": {},
          "execution_count": 21
        }
      ]
    },
    {
      "cell_type": "code",
      "metadata": {
        "id": "fwKtYStlGy-I"
      },
      "source": [
        "X_test = X_test.reshape(-1, 28*28)"
      ],
      "execution_count": null,
      "outputs": []
    },
    {
      "cell_type": "code",
      "metadata": {
        "id": "2caFxj6qGy1x",
        "colab": {
          "base_uri": "https://localhost:8080/"
        },
        "outputId": "34d3880e-e4eb-4dfb-fc9d-2a3f748ff260"
      },
      "source": [
        "X_test.shape"
      ],
      "execution_count": null,
      "outputs": [
        {
          "output_type": "execute_result",
          "data": {
            "text/plain": [
              "(10000, 784)"
            ]
          },
          "metadata": {},
          "execution_count": 23
        }
      ]
    },
    {
      "cell_type": "markdown",
      "metadata": {
        "id": "ktsJyH2eGyRG"
      },
      "source": [
        "### 調整類別的格式\n",
        "在分類問題上，我們會將不具有「順序」的類別，轉換成適當的格式，其中一種常見的方式稱作單熱編碼 (one-hot encoding)；我們先看下面的例子：\n",
        "\n",
        "假設我們有三個類別: 蘋果、香蕉、貓\n",
        "\n",
        "透過單熱編碼，我們會將每個類別其轉換成長度為類別總數的向量，其結果如下：\n",
        "\n",
        "| 蘋果 | 香蕉 | 貓 |\n",
        "|-------|--------|-----|\n",
        "|  \\begin{bmatrix}1\\\\0\\\\0\\end{bmatrix}  | \\begin{bmatrix}0\\\\1\\\\0\\end{bmatrix} | \\begin{bmatrix}0\\\\0\\\\1\\end{bmatrix}|\n",
        "\n",
        "換言之，若一個物件的預測結果是以下的向量\n",
        "\n",
        "\\begin{bmatrix}0.14\\\\0.21\\\\0.65\\end{bmatrix}\n",
        "\n",
        "我們則說該物件有 $14\\%$ 的機率是**蘋果**，$21\\%$ 的機率是**香蕉**，$65\\%$ 的機率是**貓**。\n",
        "\n",
        "因為屬於**貓**類別的機率最大，因此預測類別為「貓」。\n",
        "\n",
        "在 MNIST 資料集中，我們則將類別做以下轉換：\n",
        "\n",
        "| 0 | 1 | $\\cdots$ | 8 | 9 |\n",
        "|-|-|-|-|-|\n",
        "|  \\begin{bmatrix}1\\\\0\\\\0\\\\0\\\\0\\\\0\\\\0\\\\0\\\\0\\\\0\\end{bmatrix}  | \\begin{bmatrix}0\\\\1\\\\0\\\\0\\\\0\\\\0\\\\0\\\\0\\\\0\\\\0\\end{bmatrix} | $\\cdots$ | \\begin{bmatrix}0\\\\0\\\\0\\\\0\\\\0\\\\0\\\\0\\\\0\\\\1\\\\0\\end{bmatrix} | \\begin{bmatrix}0\\\\0\\\\0\\\\0\\\\0\\\\0\\\\0\\\\0\\\\0\\\\1\\end{bmatrix} |"
      ]
    },
    {
      "cell_type": "markdown",
      "metadata": {
        "id": "CdeWzN8nGwg4"
      },
      "source": [
        "我們可以用 Numpy 簡單的實作單熱編碼，也可以透過 Keras 提供的 `to_categorical` 來進行。\n",
        "\n",
        "首先，先簡易的操作幾個例子。"
      ]
    },
    {
      "cell_type": "code",
      "metadata": {
        "id": "-3vu5d2QGxpg"
      },
      "source": [
        "toy_label_1 = np.array([0, 1, 2, 1, 0]) # 3 類別資料"
      ],
      "execution_count": 5,
      "outputs": []
    },
    {
      "cell_type": "code",
      "metadata": {
        "id": "tbom-M5pGxfi",
        "colab": {
          "base_uri": "https://localhost:8080/"
        },
        "outputId": "636c9285-9b16-41f8-df47-9319ce881b55"
      },
      "source": [
        "to_categorical(toy_label_1, 3)"
      ],
      "execution_count": 11,
      "outputs": [
        {
          "output_type": "execute_result",
          "data": {
            "text/plain": [
              "array([[1., 0., 0.],\n",
              "       [0., 1., 0.],\n",
              "       [0., 0., 1.],\n",
              "       [0., 1., 0.],\n",
              "       [1., 0., 0.]])"
            ]
          },
          "metadata": {},
          "execution_count": 11
        }
      ]
    },
    {
      "cell_type": "code",
      "metadata": {
        "id": "1Byt-PWiGxW1",
        "colab": {
          "base_uri": "https://localhost:8080/"
        },
        "outputId": "da3dc918-5b35-40d3-8223-31e8f733dff4"
      },
      "source": [
        "toy_label_2 = toy_label_1 + 1 # 4 類別資料，但缺少第 0 類資料 (y = 0)\n",
        "toy_label_2"
      ],
      "execution_count": 7,
      "outputs": [
        {
          "output_type": "execute_result",
          "data": {
            "text/plain": [
              "array([1, 2, 3, 2, 1])"
            ]
          },
          "metadata": {},
          "execution_count": 7
        }
      ]
    },
    {
      "cell_type": "code",
      "metadata": {
        "id": "KraLgD2aGxOF",
        "colab": {
          "base_uri": "https://localhost:8080/"
        },
        "outputId": "c20b2063-855c-46f4-cf36-b19f66560268"
      },
      "source": [
        "to_categorical(toy_label_2, 4)"
      ],
      "execution_count": 12,
      "outputs": [
        {
          "output_type": "execute_result",
          "data": {
            "text/plain": [
              "array([[0., 1., 0., 0.],\n",
              "       [0., 0., 1., 0.],\n",
              "       [0., 0., 0., 1.],\n",
              "       [0., 0., 1., 0.],\n",
              "       [0., 1., 0., 0.]])"
            ]
          },
          "metadata": {},
          "execution_count": 12
        }
      ]
    },
    {
      "cell_type": "code",
      "metadata": {
        "id": "W2bgUnV5Gw9a",
        "colab": {
          "base_uri": "https://localhost:8080/",
          "height": 269
        },
        "outputId": "f33cff85-ab37-4fc3-c7ea-c13d36a5d55c"
      },
      "source": [
        "to_categorical(toy_label_2, 3) # to_categorical無法自動忽略缺少的第 0 類資料"
      ],
      "execution_count": 14,
      "outputs": [
        {
          "output_type": "error",
          "ename": "IndexError",
          "evalue": "index 3 is out of bounds for axis 1 with size 3",
          "traceback": [
            "\u001b[0;31m---------------------------------------------------------------------------\u001b[0m",
            "\u001b[0;31mIndexError\u001b[0m                                Traceback (most recent call last)",
            "\u001b[0;32m<ipython-input-14-ac7e47b34af2>\u001b[0m in \u001b[0;36m<cell line: 0>\u001b[0;34m()\u001b[0m\n\u001b[0;32m----> 1\u001b[0;31m \u001b[0mto_categorical\u001b[0m\u001b[0;34m(\u001b[0m\u001b[0mtoy_label_2\u001b[0m\u001b[0;34m,\u001b[0m \u001b[0;36m3\u001b[0m\u001b[0;34m)\u001b[0m\u001b[0;34m\u001b[0m\u001b[0;34m\u001b[0m\u001b[0m\n\u001b[0m",
            "\u001b[0;32m/usr/local/lib/python3.11/dist-packages/keras/src/utils/numerical_utils.py\u001b[0m in \u001b[0;36mto_categorical\u001b[0;34m(x, num_classes)\u001b[0m\n\u001b[1;32m     97\u001b[0m     \u001b[0mbatch_size\u001b[0m \u001b[0;34m=\u001b[0m \u001b[0mx\u001b[0m\u001b[0;34m.\u001b[0m\u001b[0mshape\u001b[0m\u001b[0;34m[\u001b[0m\u001b[0;36m0\u001b[0m\u001b[0;34m]\u001b[0m\u001b[0;34m\u001b[0m\u001b[0;34m\u001b[0m\u001b[0m\n\u001b[1;32m     98\u001b[0m     \u001b[0mcategorical\u001b[0m \u001b[0;34m=\u001b[0m \u001b[0mnp\u001b[0m\u001b[0;34m.\u001b[0m\u001b[0mzeros\u001b[0m\u001b[0;34m(\u001b[0m\u001b[0;34m(\u001b[0m\u001b[0mbatch_size\u001b[0m\u001b[0;34m,\u001b[0m \u001b[0mnum_classes\u001b[0m\u001b[0;34m)\u001b[0m\u001b[0;34m)\u001b[0m\u001b[0;34m\u001b[0m\u001b[0;34m\u001b[0m\u001b[0m\n\u001b[0;32m---> 99\u001b[0;31m     \u001b[0mcategorical\u001b[0m\u001b[0;34m[\u001b[0m\u001b[0mnp\u001b[0m\u001b[0;34m.\u001b[0m\u001b[0marange\u001b[0m\u001b[0;34m(\u001b[0m\u001b[0mbatch_size\u001b[0m\u001b[0;34m)\u001b[0m\u001b[0;34m,\u001b[0m \u001b[0mx\u001b[0m\u001b[0;34m]\u001b[0m \u001b[0;34m=\u001b[0m \u001b[0;36m1\u001b[0m\u001b[0;34m\u001b[0m\u001b[0;34m\u001b[0m\u001b[0m\n\u001b[0m\u001b[1;32m    100\u001b[0m     \u001b[0moutput_shape\u001b[0m \u001b[0;34m=\u001b[0m \u001b[0minput_shape\u001b[0m \u001b[0;34m+\u001b[0m \u001b[0;34m(\u001b[0m\u001b[0mnum_classes\u001b[0m\u001b[0;34m,\u001b[0m\u001b[0;34m)\u001b[0m\u001b[0;34m\u001b[0m\u001b[0;34m\u001b[0m\u001b[0m\n\u001b[1;32m    101\u001b[0m     \u001b[0mcategorical\u001b[0m \u001b[0;34m=\u001b[0m \u001b[0mnp\u001b[0m\u001b[0;34m.\u001b[0m\u001b[0mreshape\u001b[0m\u001b[0;34m(\u001b[0m\u001b[0mcategorical\u001b[0m\u001b[0;34m,\u001b[0m \u001b[0moutput_shape\u001b[0m\u001b[0;34m)\u001b[0m\u001b[0;34m\u001b[0m\u001b[0;34m\u001b[0m\u001b[0m\n",
            "\u001b[0;31mIndexError\u001b[0m: index 3 is out of bounds for axis 1 with size 3"
          ]
        }
      ]
    },
    {
      "cell_type": "markdown",
      "metadata": {
        "id": "3uic2UgsGw13"
      },
      "source": [
        "接著，我們來處理資料集的標籤資料，並觀察單筆資料在轉換前後的差別。"
      ]
    },
    {
      "cell_type": "code",
      "metadata": {
        "id": "FV-93MhzGwpb",
        "colab": {
          "base_uri": "https://localhost:8080/"
        },
        "outputId": "4f8d3a70-7c90-4b5e-cfe1-d90fc76b0614"
      },
      "source": [
        "print(y_train[idx])"
      ],
      "execution_count": null,
      "outputs": [
        {
          "output_type": "stream",
          "name": "stdout",
          "text": [
            "8\n"
          ]
        }
      ]
    },
    {
      "cell_type": "code",
      "metadata": {
        "id": "VQuM8DGDGwZl"
      },
      "source": [
        "y_train = to_categorical(y_train, 10)"
      ],
      "execution_count": null,
      "outputs": []
    },
    {
      "cell_type": "code",
      "metadata": {
        "id": "kMn69WEOGwQb",
        "colab": {
          "base_uri": "https://localhost:8080/"
        },
        "outputId": "1a2aaaa9-e2d0-4d12-dec4-b07e0f86bf5d"
      },
      "source": [
        "y_train[idx]"
      ],
      "execution_count": null,
      "outputs": [
        {
          "output_type": "execute_result",
          "data": {
            "text/plain": [
              "array([0., 0., 0., 0., 0., 0., 0., 0., 1., 0.])"
            ]
          },
          "metadata": {},
          "execution_count": 32
        }
      ]
    },
    {
      "cell_type": "code",
      "metadata": {
        "id": "LiF53GM0GwEr"
      },
      "source": [
        "y_test = to_categorical(y_test, 10)"
      ],
      "execution_count": null,
      "outputs": []
    },
    {
      "cell_type": "markdown",
      "metadata": {
        "id": "nvgnjLpOGv5K"
      },
      "source": [
        "## 4: 建立你的第一個全連接神經網路 (Fully-Connected Neural Network)\n",
        "\n",
        "在這個部分，我們將逐步帶領大家建立，一個有一層隱藏層的全連接神經網路\n"
      ]
    },
    {
      "cell_type": "code",
      "metadata": {
        "id": "MkYjomHmESOQ"
      },
      "source": [
        "# Import necessary modules to build our first neural network model\n",
        "from tensorflow.keras.models import Sequential\n",
        "from tensorflow.keras.layers import Dense, Flatten"
      ],
      "execution_count": null,
      "outputs": []
    },
    {
      "cell_type": "markdown",
      "metadata": {
        "id": "l30aZ6-GYtUP"
      },
      "source": [
        "### 定義模型\n",
        "\n",
        "透過 `Sequential` 函式建立一個空的「模型」"
      ]
    },
    {
      "cell_type": "code",
      "metadata": {
        "id": "xmfogzmn9kqv"
      },
      "source": [
        "model = Sequential()"
      ],
      "execution_count": null,
      "outputs": []
    },
    {
      "cell_type": "markdown",
      "metadata": {
        "id": "TNzLOAK5Y-mR"
      },
      "source": [
        "### 將隱藏層加入模型中\n",
        "\n",
        "隱藏層的參數:\n",
        "- 神經元個數: 128 （要用多少隨便，但要小於輸入才有意義）\n",
        "- 激活函數: sigmoid\n",
        "- 神經網路的輸入格式: (784,)\n",
        "\n",
        "\n",
        "[重要] 只有第一層隱藏層必須指定的輸入格式"
      ]
    },
    {
      "cell_type": "code",
      "metadata": {
        "id": "GBsfDyGE-FX5",
        "colab": {
          "base_uri": "https://localhost:8080/"
        },
        "outputId": "9596a233-742d-477e-c2de-f6a06e52b0e0"
      },
      "source": [
        "model.add(Dense(units=128, activation='sigmoid', input_shape=(784,)))"
      ],
      "execution_count": null,
      "outputs": [
        {
          "output_type": "stream",
          "name": "stderr",
          "text": [
            "/usr/local/lib/python3.10/dist-packages/keras/src/layers/core/dense.py:87: UserWarning: Do not pass an `input_shape`/`input_dim` argument to a layer. When using Sequential models, prefer using an `Input(shape)` object as the first layer in the model instead.\n",
            "  super().__init__(activity_regularizer=activity_regularizer, **kwargs)\n"
          ]
        }
      ]
    },
    {
      "cell_type": "markdown",
      "metadata": {
        "id": "BGqvyDvNbzwN"
      },
      "source": [
        "### 將輸出層加入模型中\n",
        "\n",
        "- 神經元個數: 10\n",
        "- 激活函數: softmax\n",
        "\n",
        "[重要]\n",
        "\n",
        "1. 若是二分類模型，則輸出層的神經元個數為 1，激活函數使用 **sigmoid**。\n",
        "\n",
        "2. 若是多分類模型，則輸出層的神經元個數=類別總數，激活函數則唯一指定 **softmax**。"
      ]
    },
    {
      "cell_type": "code",
      "metadata": {
        "id": "OmkUuF9Y-3mG"
      },
      "source": [
        "model.add(Dense(units=10, activation='softmax'))"
      ],
      "execution_count": null,
      "outputs": []
    },
    {
      "cell_type": "markdown",
      "metadata": {
        "id": "2rRsMjsvcOua"
      },
      "source": [
        "### 編譯模型: 設定模型訓練時的設定\n",
        "- Optimizer:\n",
        "    Stochastic Gradient Descent (SGD)\n",
        "- Loss:\n",
        "    Categorical Cross-entropy\n",
        "- metrics:\n",
        "  編譯過程可用來觀察精確度的數值\n"
      ]
    },
    {
      "cell_type": "code",
      "metadata": {
        "id": "nbW3xeRK_CrN"
      },
      "source": [
        "model.compile(loss='categorical_crossentropy',\n",
        "              optimizer='SGD',\n",
        "              metrics=['categorical_accuracy'])"
      ],
      "execution_count": null,
      "outputs": []
    },
    {
      "cell_type": "code",
      "metadata": {
        "id": "8dQOL_EtChrN",
        "colab": {
          "base_uri": "https://localhost:8080/",
          "height": 193
        },
        "outputId": "bd96b187-fc15-44ef-f167-c7e280633187"
      },
      "source": [
        "model.summary()"
      ],
      "execution_count": null,
      "outputs": [
        {
          "output_type": "display_data",
          "data": {
            "text/plain": [
              "\u001b[1mModel: \"sequential\"\u001b[0m\n"
            ],
            "text/html": [
              "<pre style=\"white-space:pre;overflow-x:auto;line-height:normal;font-family:Menlo,'DejaVu Sans Mono',consolas,'Courier New',monospace\"><span style=\"font-weight: bold\">Model: \"sequential\"</span>\n",
              "</pre>\n"
            ]
          },
          "metadata": {}
        },
        {
          "output_type": "display_data",
          "data": {
            "text/plain": [
              "┏━━━━━━━━━━━━━━━━━━━━━━━━━━━━━━━━━━━━━━┳━━━━━━━━━━━━━━━━━━━━━━━━━━━━━┳━━━━━━━━━━━━━━━━━┓\n",
              "┃\u001b[1m \u001b[0m\u001b[1mLayer (type)                        \u001b[0m\u001b[1m \u001b[0m┃\u001b[1m \u001b[0m\u001b[1mOutput Shape               \u001b[0m\u001b[1m \u001b[0m┃\u001b[1m \u001b[0m\u001b[1m        Param #\u001b[0m\u001b[1m \u001b[0m┃\n",
              "┡━━━━━━━━━━━━━━━━━━━━━━━━━━━━━━━━━━━━━━╇━━━━━━━━━━━━━━━━━━━━━━━━━━━━━╇━━━━━━━━━━━━━━━━━┩\n",
              "│ dense (\u001b[38;5;33mDense\u001b[0m)                        │ (\u001b[38;5;45mNone\u001b[0m, \u001b[38;5;34m128\u001b[0m)                 │         \u001b[38;5;34m100,480\u001b[0m │\n",
              "├──────────────────────────────────────┼─────────────────────────────┼─────────────────┤\n",
              "│ dense_1 (\u001b[38;5;33mDense\u001b[0m)                      │ (\u001b[38;5;45mNone\u001b[0m, \u001b[38;5;34m10\u001b[0m)                  │           \u001b[38;5;34m1,290\u001b[0m │\n",
              "└──────────────────────────────────────┴─────────────────────────────┴─────────────────┘\n"
            ],
            "text/html": [
              "<pre style=\"white-space:pre;overflow-x:auto;line-height:normal;font-family:Menlo,'DejaVu Sans Mono',consolas,'Courier New',monospace\">┏━━━━━━━━━━━━━━━━━━━━━━━━━━━━━━━━━━━━━━┳━━━━━━━━━━━━━━━━━━━━━━━━━━━━━┳━━━━━━━━━━━━━━━━━┓\n",
              "┃<span style=\"font-weight: bold\"> Layer (type)                         </span>┃<span style=\"font-weight: bold\"> Output Shape                </span>┃<span style=\"font-weight: bold\">         Param # </span>┃\n",
              "┡━━━━━━━━━━━━━━━━━━━━━━━━━━━━━━━━━━━━━━╇━━━━━━━━━━━━━━━━━━━━━━━━━━━━━╇━━━━━━━━━━━━━━━━━┩\n",
              "│ dense (<span style=\"color: #0087ff; text-decoration-color: #0087ff\">Dense</span>)                        │ (<span style=\"color: #00d7ff; text-decoration-color: #00d7ff\">None</span>, <span style=\"color: #00af00; text-decoration-color: #00af00\">128</span>)                 │         <span style=\"color: #00af00; text-decoration-color: #00af00\">100,480</span> │\n",
              "├──────────────────────────────────────┼─────────────────────────────┼─────────────────┤\n",
              "│ dense_1 (<span style=\"color: #0087ff; text-decoration-color: #0087ff\">Dense</span>)                      │ (<span style=\"color: #00d7ff; text-decoration-color: #00d7ff\">None</span>, <span style=\"color: #00af00; text-decoration-color: #00af00\">10</span>)                  │           <span style=\"color: #00af00; text-decoration-color: #00af00\">1,290</span> │\n",
              "└──────────────────────────────────────┴─────────────────────────────┴─────────────────┘\n",
              "</pre>\n"
            ]
          },
          "metadata": {}
        },
        {
          "output_type": "display_data",
          "data": {
            "text/plain": [
              "\u001b[1m Total params: \u001b[0m\u001b[38;5;34m101,770\u001b[0m (397.54 KB)\n"
            ],
            "text/html": [
              "<pre style=\"white-space:pre;overflow-x:auto;line-height:normal;font-family:Menlo,'DejaVu Sans Mono',consolas,'Courier New',monospace\"><span style=\"font-weight: bold\"> Total params: </span><span style=\"color: #00af00; text-decoration-color: #00af00\">101,770</span> (397.54 KB)\n",
              "</pre>\n"
            ]
          },
          "metadata": {}
        },
        {
          "output_type": "display_data",
          "data": {
            "text/plain": [
              "\u001b[1m Trainable params: \u001b[0m\u001b[38;5;34m101,770\u001b[0m (397.54 KB)\n"
            ],
            "text/html": [
              "<pre style=\"white-space:pre;overflow-x:auto;line-height:normal;font-family:Menlo,'DejaVu Sans Mono',consolas,'Courier New',monospace\"><span style=\"font-weight: bold\"> Trainable params: </span><span style=\"color: #00af00; text-decoration-color: #00af00\">101,770</span> (397.54 KB)\n",
              "</pre>\n"
            ]
          },
          "metadata": {}
        },
        {
          "output_type": "display_data",
          "data": {
            "text/plain": [
              "\u001b[1m Non-trainable params: \u001b[0m\u001b[38;5;34m0\u001b[0m (0.00 B)\n"
            ],
            "text/html": [
              "<pre style=\"white-space:pre;overflow-x:auto;line-height:normal;font-family:Menlo,'DejaVu Sans Mono',consolas,'Courier New',monospace\"><span style=\"font-weight: bold\"> Non-trainable params: </span><span style=\"color: #00af00; text-decoration-color: #00af00\">0</span> (0.00 B)\n",
              "</pre>\n"
            ]
          },
          "metadata": {}
        }
      ]
    },
    {
      "cell_type": "markdown",
      "metadata": {
        "id": "9kxIIFU1cany"
      },
      "source": [
        "### 訓練模型: 透過訓練模型來學習分類資料的函數"
      ]
    },
    {
      "cell_type": "code",
      "metadata": {
        "id": "s-_oLiE0_3A2",
        "colab": {
          "base_uri": "https://localhost:8080/"
        },
        "outputId": "23da5bf6-136f-4bf8-e5bf-c45a0d7fe95a"
      },
      "source": [
        "training_history = model.fit(X_train, y_train,\n",
        "                             batch_size=32,\n",
        "                             epochs=5,\n",
        "                             validation_data=(X_test, y_test)\n",
        "                             )"
      ],
      "execution_count": null,
      "outputs": [
        {
          "output_type": "stream",
          "name": "stdout",
          "text": [
            "Epoch 1/5\n",
            "\u001b[1m1875/1875\u001b[0m \u001b[32m━━━━━━━━━━━━━━━━━━━━\u001b[0m\u001b[37m\u001b[0m \u001b[1m6s\u001b[0m 2ms/step - categorical_accuracy: 0.5644 - loss: 1.7970 - val_categorical_accuracy: 0.8458 - val_loss: 0.8496\n",
            "Epoch 2/5\n",
            "\u001b[1m1875/1875\u001b[0m \u001b[32m━━━━━━━━━━━━━━━━━━━━\u001b[0m\u001b[37m\u001b[0m \u001b[1m3s\u001b[0m 2ms/step - categorical_accuracy: 0.8423 - loss: 0.7668 - val_categorical_accuracy: 0.8749 - val_loss: 0.5554\n",
            "Epoch 3/5\n",
            "\u001b[1m1875/1875\u001b[0m \u001b[32m━━━━━━━━━━━━━━━━━━━━\u001b[0m\u001b[37m\u001b[0m \u001b[1m4s\u001b[0m 2ms/step - categorical_accuracy: 0.8685 - loss: 0.5472 - val_categorical_accuracy: 0.8888 - val_loss: 0.4543\n",
            "Epoch 4/5\n",
            "\u001b[1m1875/1875\u001b[0m \u001b[32m━━━━━━━━━━━━━━━━━━━━\u001b[0m\u001b[37m\u001b[0m \u001b[1m4s\u001b[0m 2ms/step - categorical_accuracy: 0.8819 - loss: 0.4585 - val_categorical_accuracy: 0.8963 - val_loss: 0.4031\n",
            "Epoch 5/5\n",
            "\u001b[1m1875/1875\u001b[0m \u001b[32m━━━━━━━━━━━━━━━━━━━━\u001b[0m\u001b[37m\u001b[0m \u001b[1m3s\u001b[0m 2ms/step - categorical_accuracy: 0.8914 - loss: 0.4113 - val_categorical_accuracy: 0.9003 - val_loss: 0.3722\n"
          ]
        }
      ]
    },
    {
      "cell_type": "markdown",
      "metadata": {
        "id": "mj23nxmtcrhd"
      },
      "source": [
        "## 4: 模型評估"
      ]
    },
    {
      "cell_type": "markdown",
      "metadata": {
        "id": "d0pWnbQ6m55-"
      },
      "source": [
        "一個模型的建立、訓練是否洽當，可在訓練當下及訓練結束後兩個階段進行評估。\n",
        "\n",
        "1. 訓練中：觀察損失函數的變化，並監測分類準確率來決定是否中止訓練。\n",
        "\n",
        "2. 訓練後：，觀察模型在測試資料 (testing data) 上的表現，以評估模型設計及訓練過程是否有可以調整的空間。\n",
        "\n",
        "一般而言，我們可以考慮調整的超參數 (hyper parameter) 有下列這些:\n",
        "- 隱藏層的數量\n",
        "- 每個隱藏層的神經元數量\n",
        "- 優化器 (optimizer)\n",
        "- 學習速率 (learning rate)\n",
        "- 損失函數\n",
        "- 批次數量 (batch size)\n",
        "- 訓練次數 (epochs)"
      ]
    },
    {
      "cell_type": "markdown",
      "metadata": {
        "id": "ElRK_pSrNXFh"
      },
      "source": [
        "### 畫出訓練過程"
      ]
    },
    {
      "cell_type": "markdown",
      "metadata": {
        "id": "mB9uSCIqNc7u"
      },
      "source": [
        "`training_history.history` 是一個字典類別 (dict type) 的物件。\n",
        "\n",
        "這個字典物件紀錄訓練時的各種指標，包含損失函數 (loss) 的變化及分類準確率 (accuracy)。\n",
        "\n",
        "此外，若有指定 `validation_data` 或是 `validation_ratio`，則此處也會包含驗證資料在訓練時的各種指標變化。"
      ]
    },
    {
      "cell_type": "code",
      "metadata": {
        "id": "IT9V9iPHs8Va",
        "colab": {
          "base_uri": "https://localhost:8080/"
        },
        "outputId": "d8c54ffa-8e0a-4775-da8e-7912ba6f769f"
      },
      "source": [
        "training_history.history.keys()"
      ],
      "execution_count": null,
      "outputs": [
        {
          "output_type": "execute_result",
          "data": {
            "text/plain": [
              "dict_keys(['categorical_accuracy', 'loss', 'val_categorical_accuracy', 'val_loss'])"
            ]
          },
          "metadata": {},
          "execution_count": 41
        }
      ]
    },
    {
      "cell_type": "code",
      "metadata": {
        "id": "kaJTVX33r37Y",
        "outputId": "38665273-75de-4096-bbe7-8b699294d1d5",
        "colab": {
          "base_uri": "https://localhost:8080/",
          "height": 456
        }
      },
      "source": [
        "plt.figure(figsize=(10, 5))\n",
        "plt.subplot(1, 2, 1)\n",
        "plt.plot(training_history.history['loss'])\n",
        "plt.plot(training_history.history['val_loss'])\n",
        "plt.legend(['Train', 'Validation'])\n",
        "plt.title(\"Loss\")\n",
        "\n",
        "plt.subplot(1, 2, 2)\n",
        "plt.plot(training_history.history['categorical_accuracy'])\n",
        "plt.plot(training_history.history['val_categorical_accuracy'])\n",
        "plt.legend(['Train', 'Validation'])\n",
        "plt.title(\"Accuracy\");"
      ],
      "execution_count": null,
      "outputs": [
        {
          "output_type": "display_data",
          "data": {
            "text/plain": [
              "<Figure size 1000x500 with 2 Axes>"
            ],
            "image/png": "[encoded data removed]"
          },
          "metadata": {}
        }
      ]
    },
    {
      "cell_type": "code",
      "metadata": {
        "id": "-nQCioOmAL7i",
        "colab": {
          "base_uri": "https://localhost:8080/"
        },
        "outputId": "82451cc7-0f5a-4889-a2d3-004bec42db91"
      },
      "source": [
        "test_loss, test_accuracy = model.evaluate(X_test, y_test)"
      ],
      "execution_count": null,
      "outputs": [
        {
          "output_type": "stream",
          "name": "stdout",
          "text": [
            "\u001b[1m313/313\u001b[0m \u001b[32m━━━━━━━━━━━━━━━━━━━━\u001b[0m\u001b[37m\u001b[0m \u001b[1m0s\u001b[0m 1ms/step - categorical_accuracy: 0.8841 - loss: 0.4224\n"
          ]
        }
      ]
    },
    {
      "cell_type": "code",
      "metadata": {
        "id": "Ozv2YVlxcx1h",
        "colab": {
          "base_uri": "https://localhost:8080/"
        },
        "outputId": "d5ba37c7-06b7-4f12-85a0-e9d59721ad21"
      },
      "source": [
        "print(\"測試資料 loss: %f\" %test_loss)\n",
        "print(\"測試資料準確率: %f\" %test_accuracy)"
      ],
      "execution_count": null,
      "outputs": [
        {
          "output_type": "stream",
          "name": "stdout",
          "text": [
            "測試資料 loss: 0.372249\n",
            "測試資料準確率: 0.900300\n"
          ]
        }
      ]
    },
    {
      "cell_type": "markdown",
      "metadata": {
        "id": "12eeMryaw-9g"
      },
      "source": [
        "### 苗頭不對就閃人 - 早停法 (Early Stopping)\n",
        "模型的訓練可以設置監控，監控的目的在於，當所監控的數值沒有隨著訓練穩定上升 (如:準確率) 或下降 (如:損失) 時，可以自動停止訓練，並讓使用者重新設定各種參數以重新訓練。\n",
        "\n",
        "設置監控的方法很簡單，只需在模型訓練時，在 `.fit` 中的 `callbacks` 加入 `EarlyStoping` 函式即可。\n",
        "\n",
        "更多關於好用的 Callbacks 函式，請參照: https://keras.io/callbacks/"
      ]
    },
    {
      "cell_type": "code",
      "metadata": {
        "id": "PE4K0ff1x2wM",
        "colab": {
          "base_uri": "https://localhost:8080/"
        },
        "outputId": "9a43812c-2c70-465e-947f-168d19d946ae"
      },
      "source": [
        "training_history = model.fit(X_train, y_train,\n",
        "                             batch_size=32,\n",
        "                             epochs=5,\n",
        "                             validation_data=(X_test, y_test),\n",
        "                             callbacks=[EarlyStopping(monitor='val_loss', mode='auto', patience=3)]\n",
        "                             )"
      ],
      "execution_count": null,
      "outputs": [
        {
          "output_type": "stream",
          "name": "stdout",
          "text": [
            "Epoch 1/5\n",
            "\u001b[1m1875/1875\u001b[0m \u001b[32m━━━━━━━━━━━━━━━━━━━━\u001b[0m\u001b[37m\u001b[0m \u001b[1m3s\u001b[0m 2ms/step - categorical_accuracy: 0.8956 - loss: 0.3849 - val_categorical_accuracy: 0.9048 - val_loss: 0.3504\n",
            "Epoch 2/5\n",
            "\u001b[1m1875/1875\u001b[0m \u001b[32m━━━━━━━━━━━━━━━━━━━━\u001b[0m\u001b[37m\u001b[0m \u001b[1m3s\u001b[0m 2ms/step - categorical_accuracy: 0.8994 - loss: 0.3638 - val_categorical_accuracy: 0.9063 - val_loss: 0.3358\n",
            "Epoch 3/5\n",
            "\u001b[1m1875/1875\u001b[0m \u001b[32m━━━━━━━━━━━━━━━━━━━━\u001b[0m\u001b[37m\u001b[0m \u001b[1m5s\u001b[0m 2ms/step - categorical_accuracy: 0.8998 - loss: 0.3516 - val_categorical_accuracy: 0.9100 - val_loss: 0.3232\n",
            "Epoch 4/5\n",
            "\u001b[1m1875/1875\u001b[0m \u001b[32m━━━━━━━━━━━━━━━━━━━━\u001b[0m\u001b[37m\u001b[0m \u001b[1m3s\u001b[0m 2ms/step - categorical_accuracy: 0.9063 - loss: 0.3319 - val_categorical_accuracy: 0.9127 - val_loss: 0.3139\n",
            "Epoch 5/5\n",
            "\u001b[1m1875/1875\u001b[0m \u001b[32m━━━━━━━━━━━━━━━━━━━━\u001b[0m\u001b[37m\u001b[0m \u001b[1m6s\u001b[0m 2ms/step - categorical_accuracy: 0.9057 - loss: 0.3273 - val_categorical_accuracy: 0.9143 - val_loss: 0.3060\n"
          ]
        }
      ]
    },
    {
      "cell_type": "markdown",
      "metadata": {
        "id": "z6mofqax8QGR"
      },
      "source": [
        "## 5: 模型的儲存與載入\n",
        "\n",
        "模型的存取有兩種方式，一種則不儲存模型架構，**僅**儲存權重，另一種是把模型架構與權重儲存下來。\n",
        "\n",
        "**僅**儲存權重可以節省模型儲存檔的大小，但在載入時，必須要先建立同樣架構的模型，再載入模型權重。\n",
        "\n",
        "儲存模型架構與權重的方法，則在讀取儲存檔時，會建立模型並同時載入權重。\n",
        "\n",
        "我們將示範兩種不同的模型存取方式。"
      ]
    },
    {
      "cell_type": "code",
      "metadata": {
        "id": "QJOQ6EefEblL"
      },
      "source": [
        "from tensorflow.keras.models import load_model"
      ],
      "execution_count": null,
      "outputs": []
    },
    {
      "cell_type": "markdown",
      "metadata": {
        "id": "vJzOGxpT9Ryr"
      },
      "source": [
        "### 方法一：僅儲存模型權重\n",
        "\n",
        "我們可以透過 `.save_weights` 及 `.load_weights` 來進行模型(權重)的存取"
      ]
    },
    {
      "cell_type": "markdown",
      "source": [
        "首先，我們先建立一個用於儲存模型的資料夾"
      ],
      "metadata": {
        "id": "yUb1uYz6bs69"
      }
    },
    {
      "cell_type": "code",
      "source": [
        "!mkdir models"
      ],
      "metadata": {
        "id": "4qQYU3Ykbx3Y"
      },
      "execution_count": null,
      "outputs": []
    },
    {
      "cell_type": "markdown",
      "source": [
        "如此一來，我們就能將模型存在這個資料夾 ``models`` 底下"
      ],
      "metadata": {
        "id": "9vBt_CcSb0id"
      }
    },
    {
      "cell_type": "code",
      "metadata": {
        "id": "jrI0DTA-g2KF"
      },
      "source": [
        "model.save_weights('./models/model_weight_mnist.weights.h5')"
      ],
      "execution_count": null,
      "outputs": []
    },
    {
      "cell_type": "markdown",
      "metadata": {
        "id": "gGhyJzb79f-O"
      },
      "source": [
        "接者，我們建立兩個新模型，一個模型與我們建立的第一個模型具有相同設計，而第二個模型則考慮不同設計"
      ]
    },
    {
      "cell_type": "code",
      "metadata": {
        "id": "h5kNodI-9fNS"
      },
      "source": [
        "new_model = Sequential()\n",
        "new_model.add(Dense(units=128, activation='sigmoid', input_shape=(784,)))\n",
        "new_model.add(Dense(units=10, activation='softmax'))\n",
        "new_model.summary()"
      ],
      "execution_count": null,
      "outputs": []
    },
    {
      "cell_type": "code",
      "metadata": {
        "id": "6iIkC_QQ744y"
      },
      "source": [
        "new_model.load_weights('./models/model_weight_mnist')"
      ],
      "execution_count": null,
      "outputs": []
    },
    {
      "cell_type": "code",
      "metadata": {
        "id": "dtBwcofY765o"
      },
      "source": [
        "new_model.compile(loss='categorical_crossentropy',\n",
        "                  optimizer='SGD',\n",
        "                  metrics=['categorical_accuracy'])\n",
        "\n",
        "new_test_loss, new_test_accuracy = new_model.evaluate(X_test, y_test)\n",
        "print(\"測試資料 loss: %f\" %new_test_loss)\n",
        "print(\"測試資料準確率: %f\" %new_test_accuracy)"
      ],
      "execution_count": null,
      "outputs": []
    },
    {
      "cell_type": "code",
      "metadata": {
        "id": "xs_D0j9u7_iO"
      },
      "source": [
        "different_model = Sequential()\n",
        "different_model.add(Dense(units=64, activation='sigmoid', input_shape=(784,)))\n",
        "different_model.add(Dense(units=10, activation='softmax'))\n",
        "different_model.summary()"
      ],
      "execution_count": null,
      "outputs": []
    },
    {
      "cell_type": "code",
      "metadata": {
        "id": "xNvdgskI-Vwr"
      },
      "source": [
        "different_model.load_weights('./models/model_weight_mnist') # 會失敗，因為模型架構不同"
      ],
      "execution_count": null,
      "outputs": []
    },
    {
      "cell_type": "markdown",
      "metadata": {
        "id": "SnxMj6KL-nrI"
      },
      "source": [
        "### 方法二：儲存模型架構與權重\n",
        "\n",
        "在此，我們透過 `.save` 及 `load_model` 來進行模型(權重)的存取"
      ]
    },
    {
      "cell_type": "code",
      "metadata": {
        "id": "NZDcBc4r-ms-"
      },
      "source": [
        "model.save('./models/model_mnist.h5')"
      ],
      "execution_count": null,
      "outputs": []
    },
    {
      "cell_type": "code",
      "metadata": {
        "id": "c6-2RhAn-m3m"
      },
      "source": [
        "new_model = load_model('./models/model_mnist.h5')"
      ],
      "execution_count": null,
      "outputs": []
    },
    {
      "cell_type": "code",
      "metadata": {
        "id": "8lTnLSMi_fgq"
      },
      "source": [
        "new_model.summary()"
      ],
      "execution_count": null,
      "outputs": []
    },
    {
      "cell_type": "code",
      "metadata": {
        "id": "li_UPWWP_gPu"
      },
      "source": [
        "new_model.compile(loss='categorical_crossentropy',\n",
        "                  optimizer='SGD',\n",
        "                  metrics=['categorical_accuracy'])\n",
        "\n",
        "new_test_loss, new_test_accuracy = new_model.evaluate(X_test, y_test)\n",
        "print(\"測試資料 loss: %f\" %new_test_loss)\n",
        "print(\"測試資料準確率: %f\" %new_test_accuracy)"
      ],
      "execution_count": null,
      "outputs": []
    },
    {
      "cell_type": "markdown",
      "metadata": {
        "id": "pXf5nHx6hdwM"
      },
      "source": [
        "## 6: 視覺化預測結果\n",
        "\n",
        "在這部分，我們提供簡單的視覺化方法來呈現神經網路的輸入與輸出結果"
      ]
    },
    {
      "cell_type": "code",
      "metadata": {
        "id": "l9jVjwXxEedt"
      },
      "source": [
        "from ipywidgets import interact, BoundedIntText"
      ],
      "execution_count": null,
      "outputs": []
    },
    {
      "cell_type": "code",
      "metadata": {
        "id": "2tAXamndiKEN"
      },
      "source": [
        "def visulization(idx=0):\n",
        "    # Random pick one data from training set\n",
        "    # idx = np.random.randint(X_train.shape[0])\n",
        "    sample_x = X_test[idx].reshape(28, 28)\n",
        "    sample_y = y_test[idx]\n",
        "    # Predict the class of random data\n",
        "    predict_y = model.predict(X_test[idx:idx+1]).squeeze()\n",
        "    predict_label = predict_y.argmax()\n",
        "\n",
        "    fig, (ax1, ax2) = plt.subplots(1, 2, figsize=(10, 5))\n",
        "    # Plot raw image\n",
        "    ax1.imshow(sample_x, 'gray_r')\n",
        "    ax1.set_title(\"Image Label: %d\" %sample_y.argmax())\n",
        "\n",
        "    # Plot prediction probability of each classes\n",
        "    ax2.barh(np.arange(10), predict_y)\n",
        "    ax2.patches[predict_label].set_facecolor('Red')\n",
        "    ax2.set_title(\"Prediction Result: %d\" %predict_label);\n",
        "    if sample_y.argmax()==predict_y.argmax():\n",
        "        print(\"預測正確!\")\n",
        "    else:\n",
        "        print(\"預測失敗QQ\")"
      ],
      "execution_count": null,
      "outputs": []
    },
    {
      "cell_type": "code",
      "metadata": {
        "id": "eHIOA94JiJ9t"
      },
      "source": [
        "interact(visulization, idx=BoundedIntText(value=5566, min=0, max=X_test.shape[0]-1));"
      ],
      "execution_count": null,
      "outputs": []
    },
    {
      "cell_type": "code",
      "metadata": {
        "id": "A8PkRlvh6nrD"
      },
      "source": [],
      "execution_count": null,
      "outputs": []
    }
  ]
}